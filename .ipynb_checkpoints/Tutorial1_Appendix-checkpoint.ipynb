{
 "cells": [
  {
   "cell_type": "markdown",
   "metadata": {},
   "source": [
    "# Tutorial 1 Appendix"
   ]
  },
  {
   "cell_type": "markdown",
   "metadata": {},
   "source": [
    "Version: 1.3 (January 2020)"
   ]
  },
  {
   "cell_type": "markdown",
   "metadata": {},
   "source": [
    "This appendix prodivdes the code for the preparation of the data sets used in Tutorial 1. The general steps are as follows:\n",
    "\n",
    "1. Retrieve a reference *Escherichia coli* genome assembly via FTP from NCBI, filter out to only the terms we want\n",
    "2. Download and select two random genomes from a list \n",
    "3. BLAST the genes from 1. against the genes from the genomes presented in 2, returning any strong hits.\n",
    "4. Write the strongest hit to a file\n",
    "\n",
    "This was written and run on Windows (as a challenge to myself), but it should work anywhere."
   ]
  },
  {
   "cell_type": "code",
   "execution_count": 14,
   "metadata": {},
   "outputs": [],
   "source": [
    "# Change to False if you want to actually run the data-prep code\n",
    "# This is just to mask some code when we want to import the functions\n",
    "# for the assignment.\n",
    "just_defs = True"
   ]
  },
  {
   "cell_type": "code",
   "execution_count": 3,
   "metadata": {},
   "outputs": [
    {
     "ename": "NameError",
     "evalue": "name 'just_defs' is not defined",
     "output_type": "error",
     "traceback": [
      "\u001b[0;31m---------------------------------------------------------------------------\u001b[0m",
      "\u001b[0;31mNameError\u001b[0m                                 Traceback (most recent call last)",
      "\u001b[0;32m<ipython-input-3-9e0c8522e57a>\u001b[0m in \u001b[0;36m<module>\u001b[0;34m\u001b[0m\n\u001b[1;32m      6\u001b[0m \u001b[0;32mimport\u001b[0m \u001b[0mrandom\u001b[0m\u001b[0;34m\u001b[0m\u001b[0;34m\u001b[0m\u001b[0m\n\u001b[1;32m      7\u001b[0m \u001b[0;34m\u001b[0m\u001b[0m\n\u001b[0;32m----> 8\u001b[0;31m \u001b[0;32mif\u001b[0m \u001b[0;32mnot\u001b[0m \u001b[0mjust_defs\u001b[0m\u001b[0;34m:\u001b[0m\u001b[0;34m\u001b[0m\u001b[0;34m\u001b[0m\u001b[0m\n\u001b[0m\u001b[1;32m      9\u001b[0m     \u001b[0;32mfrom\u001b[0m \u001b[0mBio\u001b[0m\u001b[0;34m.\u001b[0m\u001b[0mBlast\u001b[0m\u001b[0;34m.\u001b[0m\u001b[0mApplications\u001b[0m \u001b[0;32mimport\u001b[0m \u001b[0mNcbiblastpCommandline\u001b[0m\u001b[0;34m\u001b[0m\u001b[0;34m\u001b[0m\u001b[0m\n\u001b[1;32m     10\u001b[0m     \u001b[0;32mfrom\u001b[0m \u001b[0mBio\u001b[0m\u001b[0;34m.\u001b[0m\u001b[0mBlast\u001b[0m \u001b[0;32mimport\u001b[0m \u001b[0mNCBIXML\u001b[0m\u001b[0;34m\u001b[0m\u001b[0;34m\u001b[0m\u001b[0m\n",
      "\u001b[0;31mNameError\u001b[0m: name 'just_defs' is not defined"
     ]
    }
   ],
   "source": [
    "import os\n",
    "import subprocess\n",
    "import gzip\n",
    "from ftplib import FTP\n",
    "from itertools import combinations\n",
    "import random\n",
    "\n",
    "if not just_defs:\n",
    "    from Bio.Blast.Applications import NcbiblastpCommandline\n",
    "    from Bio.Blast import NCBIXML"
   ]
  },
  {
   "cell_type": "code",
   "execution_count": 4,
   "metadata": {},
   "outputs": [],
   "source": [
    "reference_genome = \"GCA_000005845\" #Escherichia coli K-12 strain MG1655\n",
    "genomes = [\"GCA_000008625.1\", #Aquifex aeolicus VF5\n",
    "\"GCA_000007845.1\", #Bacillus anthracis str. Ames\n",
    "\"GCA_000007825.1\", #Bacillus cereus ATCC 14579\n",
    "\"GCA_000195715.1\", #Bordetella pertussis Tohama I\n",
    "\"GCA_000008685.2\", #Borreliella burgdorferi B31\n",
    "\"GCA_000009605.1\", #Buchnera aphidicola str. APS (Acyrthosiphon pisum)\n",
    "\"GCA_000011705.1\", #Burkholderia mallei ATCC 23344\n",
    "\"GCA_000009085.1\", #Campylobacter jejuni subsp. jejuni NCTC 11168 = ATCC 700819\n",
    "\"GCA_000068585.1\", #Chlamydia trachomatis 434/Bu\n",
    "\"GCA_000018865.1\", #Chloroflexus aurantiacus J-10-fl\n",
    "\"GCA_000009205.2\", #Clostridioides difficile 630\n",
    "\"GCA_000063585.1\", #Clostridium botulinum A str. ATCC 3502\n",
    "\"GCA_000008565.1\", #Deinococcus radiodurans R1\n",
    "\"GCA_000007785.1\", #Enterococcus faecalis V583\n",
    "\"GCA_000026345.1\", #Escherichia coli IAI39\n",
    "\"GCA_000007325.1\", #Fusobacterium nucleatum subsp. nucleatum ATCC 25586\n",
    "\"GCA_000011385.1\", #Gloeobacter violaceus PCC 7421\n",
    "\"GCA_000027305.1\", #Haemophilus influenzae Rd KW20\n",
    "\"GCA_000008525.1\", #Helicobacter pylori 26695\n",
    "\"GCA_000011985.1\", #Lactobacillus acidophilus NCFM\n",
    "\"GCA_000006865.1\", #Lactococcus lactis subsp. lactis Il1403\n",
    "\"GCA_000008485.1\", #Legionella pneumophila subsp. pneumophila str. Philadelphia 1\n",
    "\"GCA_000092565.1\", #Leptospira interrogans serovar Lai str. 56601\n",
    "\"GCA_000196035.1\", #Listeria monocytogenes EGD-e\n",
    "\"GCA_000185905.1\", #Mesorhizobium ciceri biovar biserrulae WSM1271\n",
    "\"GCA_000195855.1\", #Mycobacterium leprae TN\n",
    "\"GCA_000195835.2\", #Mycobacterium tuberculosis variant bovis AF2122/97\n",
    "\"GCA_000006845.1\", #Neisseria gonorrhoeae FA 1090\n",
    "\"GCA_000007925.1\", #Prochlorococcus marinus subsp. marinus str. CCMP1375\n",
    "\"GCA_000006765.1\", #Pseudomonas aeruginosa PAO1\n",
    "\"GCA_000195735.1\", #Rickettsia prowazekii str. Madrid E\n",
    "\"GCA_000013045.1\", #Salinibacter ruber DSM 13855\n",
    "\"GCA_000195995.1\", #Salmonella enterica subsp. enterica serovar Typhi str. CT18\n",
    "\"GCA_000146165.2\", #Shewanella oneidensis MR-1\n",
    "\"GCA_000012005.1\", #Shigella dysenteriae Sd197\n",
    "\"GCA_000013425.1\", #Staphylococcus aureus subsp. aureus NCTC 8325\n",
    "\"GCA_000007645.1\", #Staphylococcus epidermidis ATCC 12228\n",
    "\"GCA_000007265.1\", #Streptococcus agalactiae 2603V/R\n",
    "\"GCA_000007045.1\", #Streptococcus pneumoniae R6\n",
    "\"GCA_000006785.2\", #Streptococcus pyogenes M1 GAS\n",
    "\"GCA_000024905.1\", #Thermanaerovibrio acidaminovorans DSM 6589\n",
    "\"GCA_000020985.1\", #Thermodesulfovibrio yellowstonii DSM 11347\n",
    "\"GCA_000008545.1\", #Thermotoga maritima MSB8\n",
    "\"GCA_000091545.1\", #Thermus thermophilus HB8\n",
    "\"GCA_000006745.1\", #Vibrio cholerae O1 biovar El Tor str. N16961\n",
    "\"GCA_000007145.1\", #Xanthomonas campestris pv. campestris str. ATCC 33913\n",
    "\"GCA_000009065.1\"] #Yersinia pestis CO92"
   ]
  },
  {
   "cell_type": "code",
   "execution_count": 5,
   "metadata": {},
   "outputs": [
    {
     "data": {
      "text/plain": [
       "('GCA_000012005.1', 'GCA_000007265.1')"
      ]
     },
     "execution_count": 5,
     "metadata": {},
     "output_type": "execute_result"
    }
   ],
   "source": [
    "# Assign a genome pair to each student, providing a function that they can use to get their filenames\n",
    "def get_genome_pair():\n",
    "    genome_pairs = list(combinations(genomes, 2))\n",
    "    return random.choice(genome_pairs)\n",
    "#Example, showing my genome pair\n",
    "get_genome_pair() "
   ]
  },
  {
   "cell_type": "code",
   "execution_count": 5,
   "metadata": {
    "collapsed": true
   },
   "outputs": [],
   "source": [
    "if not just_defs:\n",
    "    os.chdir(\"tutorial1_appendix_data\")"
   ]
  },
  {
   "cell_type": "markdown",
   "metadata": {
    "collapsed": true
   },
   "source": [
    "# 1. Download Reference Genome"
   ]
  },
  {
   "cell_type": "code",
   "execution_count": 6,
   "metadata": {
    "collapsed": true
   },
   "outputs": [],
   "source": [
    "def fetch_protein_set(genome_id, out_file):\n",
    "    filenames = []\n",
    "    def get_name(line):\n",
    "        filenames.append(line.split(\" \")[-1])\n",
    "    genome_split = genome_id.split(\"_\")\n",
    "    ftp = FTP(\"ftp.ncbi.nlm.nih.gov\")\n",
    "    ftp.login(user='anonymous',passwd='')\n",
    "    ftp.cwd(\"genomes/all/\")\n",
    "    # Build most of the URL to the genome on the FTP server\n",
    "    genome_uri = genome_split[0] + \"/\" + genome_split[1][0:3] + \"/\" + genome_split[1][3:6] + \"/\" + genome_split[1][6:9]\n",
    "    ftp.cwd(genome_uri)\n",
    "    # Request the revisions\n",
    "    code = ftp.retrlines(\"LIST\", callback=get_name)\n",
    "    # Take the most recent genome revision\n",
    "    genome_revision = filenames[-1]\n",
    "    ftp.cwd(genome_revision)\n",
    "    # Download it\n",
    "    ftp.retrbinary('RETR %s_protein.faa.gz' % (genome_revision,), open(out_file, 'wb').write)"
   ]
  },
  {
   "cell_type": "code",
   "execution_count": 7,
   "metadata": {
    "collapsed": true
   },
   "outputs": [],
   "source": [
    "if not just_defs:\n",
    "    fetch_protein_set(reference_genome, \"reference_proteins.faa.gz\")"
   ]
  },
  {
   "cell_type": "code",
   "execution_count": 8,
   "metadata": {
    "collapsed": true
   },
   "outputs": [],
   "source": [
    "def filter_genome(in_file, out_file):\n",
    "    # Filter the .faa file to only keep the items with 'ribosome', 'translation', or 'tRNA' in the description\n",
    "    seq = False\n",
    "    with open(out_file, 'w') as subset_file:\n",
    "        for line in gzip.open(in_file,'rt'):\n",
    "            line = str(line)\n",
    "            if (line[0] == \">\"):\n",
    "                if any(x in line.lower() for x in ['ribosome','trna','translation','ribosomal']):\n",
    "                    seq = True\n",
    "                    subset_file.write(line)\n",
    "                else:\n",
    "                    seq = False\n",
    "            else:\n",
    "                if seq:\n",
    "                    subset_file.write(line)"
   ]
  },
  {
   "cell_type": "code",
   "execution_count": 9,
   "metadata": {
    "collapsed": true
   },
   "outputs": [],
   "source": [
    "if not just_defs:\n",
    "    filter_genome(\"reference_proteins.faa.gz\", \"subset_reference.faa\")"
   ]
  },
  {
   "cell_type": "markdown",
   "metadata": {},
   "source": [
    "## 2. Download Other Genomes"
   ]
  },
  {
   "cell_type": "code",
   "execution_count": 10,
   "metadata": {
    "collapsed": true
   },
   "outputs": [],
   "source": [
    "# Just a simple little gunzipper\n",
    "def decompress_file(in_file, out_file):\n",
    "    with gzip.open(in_file, 'rt') as f:\n",
    "        with open(out_file, 'w') as o:\n",
    "            for line in f:\n",
    "                o.write(str(line))"
   ]
  },
  {
   "cell_type": "code",
   "execution_count": 11,
   "metadata": {
    "collapsed": true
   },
   "outputs": [],
   "source": [
    "if not just_defs:\n",
    "    for genome_id in genomes:\n",
    "        fetch_protein_set(genome_id, genome_id + \".faa.gz\")\n",
    "        decompress_file(genome_id + \".faa.gz\", genome_id + \".faa\")\n",
    "        #Format a BLAST database for each one\n",
    "        #Windows: makeblastdb.exe\n",
    "        #UNIX/MacOS: makeblastdb\n",
    "        subprocess.run(\"makeblastdb.exe -in %s.faa -dbtype prot -out %s\" % (genome_id, genome_id))"
   ]
  },
  {
   "cell_type": "markdown",
   "metadata": {},
   "source": [
    "## 3. BLAST Genomes to Reference"
   ]
  },
  {
   "cell_type": "code",
   "execution_count": 12,
   "metadata": {
    "collapsed": true
   },
   "outputs": [],
   "source": [
    "if not just_defs:\n",
    "    #For each of the genomes, blast the reference subset to find the closest protein match\n",
    "    #Store the results in XML filesTb\n",
    "    for genome_id in genomes:\n",
    "        blast_res = NcbiblastpCommandline(cmd=\"blastp\", query=\"subset_reference.faa\", db=genome_id,\n",
    "                                          evalue=1e-10, outfmt=5, out=\"reference_%s.xml\" % (genome_id,))\n",
    "        blast_res()"
   ]
  },
  {
   "cell_type": "markdown",
   "metadata": {},
   "source": [
    "## 4. Filter Genomes to Best Hits Against Reference"
   ]
  },
  {
   "cell_type": "code",
   "execution_count": 13,
   "metadata": {
    "collapsed": true
   },
   "outputs": [],
   "source": [
    "if not just_defs:\n",
    "    # Iterate through BLAST results, pulling the accessions from the best hits for each sequence, \n",
    "    # if any hit above the e-value threshold exists\n",
    "    for genome_id in genomes:\n",
    "        result_handle = open(\"reference_%s.xml\" % (genome_id,))\n",
    "        blast_records = NCBIXML.parse(result_handle)\n",
    "        best_hit_labels = []\n",
    "        skipped = 0\n",
    "        for blast_record in blast_records:\n",
    "            if blast_record.alignments:\n",
    "                # Add the accession\n",
    "                best_hit_labels.append(blast_record.alignments[0].title.split(\" \")[1])\n",
    "            else:\n",
    "                skipped += 1\n",
    "        result_handle.close()\n",
    "        \n",
    "        # Now loop through the original faa files and pull out the right sequences\n",
    "        seq = False\n",
    "        # Note that one of the E. coli genes might hit more than one of the same gene from a genome\n",
    "        # Meaning that you may end up with fewer genes than the reference set\n",
    "        with open(genome_id + \"_subset.faa\", 'w') as subset_file:\n",
    "            with open(genome_id + \".faa\", 'r') as fasta_file:\n",
    "                for line in fasta_file:\n",
    "                    if (line[0] == \">\"):\n",
    "                        if any(x in line.strip() for x in best_hit_labels):\n",
    "                            seq = True\n",
    "                            subset_file.write(line)\n",
    "                        else:\n",
    "                            seq = False\n",
    "                    else:\n",
    "                        if seq:\n",
    "                            subset_file.write(line)"
   ]
  }
 ],
 "metadata": {
  "kernelspec": {
   "display_name": "Python 3",
   "language": "python",
   "name": "python3"
  },
  "language_info": {
   "codemirror_mode": {
    "name": "ipython",
    "version": 3
   },
   "file_extension": ".py",
   "mimetype": "text/x-python",
   "name": "python",
   "nbconvert_exporter": "python",
   "pygments_lexer": "ipython3",
   "version": "3.7.4"
  }
 },
 "nbformat": 4,
 "nbformat_minor": 2
}
